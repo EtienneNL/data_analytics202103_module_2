{
 "cells": [
  {
   "cell_type": "markdown",
   "metadata": {
    "Collapsed": "false"
   },
   "source": [
    "# Introduction To Probability\n",
    "## Challenge 1\n",
    "\n",
    "A and B are events of a probability space with $(\\omega, \\sigma, P)$ such that $P(A) = 0.3$, $P(B) = 0.6$ and $P(A \\cap B) = 0.1$\n",
    "\n",
    "Which of the following statements are false?\n",
    "1. $ P(A \\cup B) = 0.6 $\n",
    "2. $ P(A \\cap B^{C}) = 0.2 $\n",
    "3. $ P(A \\cap (B \\cup B^{C})) = 0.4 $\n",
    "4. $ P(A^{C} \\cap B^{C}) = 0.3 $\n",
    "5. $ P((A \\cap B)^{C}) = 0.9 $"
   ]
  },
  {
   "cell_type": "markdown",
   "metadata": {
    "Collapsed": "false"
   },
   "source": [
    "Since 𝑃(𝐴∩𝐵)=0.1, which is different from P(A)=0.3*P(B)=0.6 = 0.18, this means that A and B are non-mutually exclusive events.\n",
    "Therefore, the following statements are false:\n",
    "* Statement 1: $ [P(A \\cup B) = 0.6] $ $\\neq$ $[P(A)+P(B)- P(A \\cap B) = 0.3+0.6-0.1=0.8]$\n",
    "* Statement 2: $ P(A \\cap B^{C})$ should equal $P(A \\cup B)$. This is not the case, since the former is 0.2 while the latter is 0.8\n",
    "* Statement 3: $ P(A \\cap (B \\cup B^{C})) $ = $P(A \\cap B) \\cup P(A \\cap B^{C})$ = $ P(A \\cap B) \\cup P(A \\cup B) $ = 0.1 + 0.8 = 0.9\n",
    "* Statement 4: $ P(A^{C} \\cap B^{C})$ = $ P((A \\cup B)^{C})$ = $1 - P(A \\cup B)$ = 1 - 0.8 = 0.2"
   ]
  },
  {
   "cell_type": "markdown",
   "metadata": {
    "Collapsed": "false"
   },
   "source": [
    "## Challenge 2\n",
    "There is a box with 10 white balls, 12 red balls and 8 black balls. Calculate the probability of:\n",
    "* Taking a white ball out.\n",
    "* Taking a white ball out after taking a black ball out.\n",
    "* Taking a red ball out after taking a black and a red ball out.\n",
    "* Taking a red ball out after taking a black and a red ball out with reposition.\n",
    "\n",
    "**Hint**: Reposition means putting back the ball into the box after taking it out."
   ]
  },
  {
   "cell_type": "markdown",
   "metadata": {},
   "source": [
    "#### Answers:"
   ]
  },
  {
   "cell_type": "markdown",
   "metadata": {
    "Collapsed": "false"
   },
   "source": [
    "1. Probability of taking a white ball out:\n",
    "    * $ P(white) = \\frac{10}{30}=0.33 $\n",
    "2. Probability of taking a white ball out after taking a black ball out:\n",
    "    * $ P(black\\cap white) = P(black) * P(white|black) = \\frac{8}{30} \\times \\frac{10}{29}=0.184 $\n",
    "3. Probability of taking a red ball out after taking a black and a red ball out:\n",
    "    * $ P((black\\cap red)\\cap red) = P(black\\cap red) * P(red|(black\\cap red)) = \\frac{8}{30} * \\frac{12}{29} * \\frac{11}{28} = 0.04334 $\n",
    "4. Probability of taking a red ball out after taking a black and a red ball out with reposition:\n",
    "    * $ P(black\\cap red\\cap red) = P(black) * P(red) * P(red) = \\frac{8}{30} * \\frac{12}{30} * \\frac{12}{30} = 0.04267$"
   ]
  },
  {
   "cell_type": "markdown",
   "metadata": {
    "Collapsed": "false"
   },
   "source": [
    "## Challenge 3\n",
    "\n",
    "You are planning to go on a picnic today but the morning is cloudy. You hate rain so you don't know whether to go out or stay home! To help you make a decision, you gather the following data about rainy days:\n",
    "\n",
    "* 50% of all rainy days start off cloudy!\n",
    "* Cloudy mornings are common. About 40% of days start cloudy. \n",
    "* This month is usually dry so only 3 of 30 days (10%) tend to be rainy. \n",
    "\n",
    "What is the chance of rain during the day?"
   ]
  },
  {
   "cell_type": "markdown",
   "metadata": {
    "Collapsed": "false"
   },
   "source": [
    "### Answers:"
   ]
  },
  {
   "cell_type": "markdown",
   "metadata": {},
   "source": [
    "* $ P(cloudy) = 0.4 $\n",
    "* $ P(rain|cloudy) = 0.5 $\n",
    "* $ P(cloudy\\cap rain) = P(cloudy) * P(rain|cloudy) = 0.4 * 0.5 = 0.2 $\n",
    "* $ P(rain\\cap this month) = 0.1 $\n",
    "* The chaince of rain during the day would be: $ 0.2 * 0.1 = 0.02 $"
   ]
  },
  {
   "cell_type": "markdown",
   "metadata": {
    "Collapsed": "false"
   },
   "source": [
    "## Challenge 4\n",
    "\n",
    "One thousand people were asked through a telephone survey whether they thought more street lighting is needed at night or not.\n",
    "\n",
    "Out of the 480 men that answered the survey, 324 said yes and 156 said no. On the other hand, out of the 520 women that answered, 351 said yes and 169 said no. \n",
    "\n",
    "We wonder if men and women have a different opinions about the street lighting matter. Is gender relevant or irrelevant to the question?\n",
    "\n",
    "Consider the following events:\n",
    "- The answer is yes, so the person that answered thinks that more street lighting is needed.\n",
    "- The person who answered is a man.\n",
    "\n",
    "We want to know if these events are independent, that is, if the fact of wanting more light depends on whether one is male or female. Are these events independent or not?\n",
    "\n",
    "**Hint**: To clearly compare the answers by gender, it is best to place the data in a table."
   ]
  },
  {
   "cell_type": "code",
   "execution_count": 2,
   "metadata": {
    "Collapsed": "false"
   },
   "outputs": [],
   "source": [
    "# your code here\n",
    "import pyforest"
   ]
  },
  {
   "cell_type": "code",
   "execution_count": 16,
   "metadata": {},
   "outputs": [
    {
     "data": {
      "application/javascript": [
       "\n",
       "        if (window._pyforest_update_imports_cell) { window._pyforest_update_imports_cell('import pandas as pd'); }\n",
       "    "
      ],
      "text/plain": [
       "<IPython.core.display.Javascript object>"
      ]
     },
     "metadata": {},
     "output_type": "display_data"
    },
    {
     "data": {
      "text/html": [
       "<div>\n",
       "<style scoped>\n",
       "    .dataframe tbody tr th:only-of-type {\n",
       "        vertical-align: middle;\n",
       "    }\n",
       "\n",
       "    .dataframe tbody tr th {\n",
       "        vertical-align: top;\n",
       "    }\n",
       "\n",
       "    .dataframe thead th {\n",
       "        text-align: right;\n",
       "    }\n",
       "</style>\n",
       "<table border=\"1\" class=\"dataframe\">\n",
       "  <thead>\n",
       "    <tr style=\"text-align: right;\">\n",
       "      <th></th>\n",
       "      <th>Yes</th>\n",
       "      <th>No</th>\n",
       "    </tr>\n",
       "  </thead>\n",
       "  <tbody>\n",
       "    <tr>\n",
       "      <th>Male</th>\n",
       "      <td>0.675</td>\n",
       "      <td>0.325</td>\n",
       "    </tr>\n",
       "    <tr>\n",
       "      <th>Female</th>\n",
       "      <td>0.675</td>\n",
       "      <td>0.325</td>\n",
       "    </tr>\n",
       "  </tbody>\n",
       "</table>\n",
       "</div>"
      ],
      "text/plain": [
       "          Yes     No\n",
       "Male    0.675  0.325\n",
       "Female  0.675  0.325"
      ]
     },
     "execution_count": 16,
     "metadata": {},
     "output_type": "execute_result"
    }
   ],
   "source": [
    "m_y = 324/480\n",
    "m_n = 156/480\n",
    "f_y = 351/520\n",
    "f_n = 169/520\n",
    "table = pd.DataFrame(data={'Yes': [m_y, f_y], 'No': [m_n, f_n]}, index=['Male', 'Female'])\n",
    "table"
   ]
  },
  {
   "cell_type": "markdown",
   "metadata": {
    "Collapsed": "false"
   },
   "source": [
    "1. The probability of a yes answer is: \n",
    "    * $ P(Yes) = (324+351)\\div 1000=0.675$\n",
    "2. The probability of a man answering is:\n",
    "    * $ P(Man) = 480\\div 1000=0.48$\n",
    "3. The probability of a man answering yes is:\n",
    "    * $ P(Yes\\cap Man) = 0.675$\n",
    "4. If two events are independent then the first bullet below must be true:\n",
    "    * $ P(Yes\\cap Man) = P(Yes)\\ast P(Man)$\n",
    "    * However, this is not the case since 0.675 <> 0.675*0.48"
   ]
  }
 ],
 "metadata": {
  "kernelspec": {
   "display_name": "Python 3",
   "language": "python",
   "name": "python3"
  },
  "language_info": {
   "codemirror_mode": {
    "name": "ipython",
    "version": 3
   },
   "file_extension": ".py",
   "mimetype": "text/x-python",
   "name": "python",
   "nbconvert_exporter": "python",
   "pygments_lexer": "ipython3",
   "version": "3.8.5"
  }
 },
 "nbformat": 4,
 "nbformat_minor": 4
}
